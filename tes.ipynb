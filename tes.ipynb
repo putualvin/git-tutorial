{
 "cells": [
  {
   "cell_type": "code",
   "execution_count": 1,
   "metadata": {},
   "outputs": [],
   "source": [
    "usia = 30\n",
    "nama = 'Putu'"
   ]
  },
  {
   "cell_type": "code",
   "execution_count": 6,
   "metadata": {},
   "outputs": [
    {
     "data": {
      "text/plain": [
       "True"
      ]
     },
     "execution_count": 6,
     "metadata": {},
     "output_type": "execute_result"
    }
   ],
   "source": [
    "usia == 30 or not nama == 'Devi'"
   ]
  },
  {
   "cell_type": "code",
   "execution_count": 7,
   "metadata": {},
   "outputs": [
    {
     "name": "stdout",
     "output_type": "stream",
     "text": [
      "z is even\n"
     ]
    }
   ],
   "source": [
    "angka = 4\n",
    "if angka%2 ==0:\n",
    "    print(\"z is even\")"
   ]
  },
  {
   "cell_type": "code",
   "execution_count": 9,
   "metadata": {},
   "outputs": [
    {
     "name": "stdout",
     "output_type": "stream",
     "text": [
      "habis dibagi 2\n"
     ]
    }
   ],
   "source": [
    "angka = 6\n",
    "if angka%2 ==0:\n",
    "    print(\"habis dibagi 2\")\n",
    "elif angka%3 == 0 :\n",
    "    print(\"angka habis dibagi 3\")"
   ]
  },
  {
   "cell_type": "code",
   "execution_count": 10,
   "metadata": {},
   "outputs": [
    {
     "name": "stdout",
     "output_type": "stream",
     "text": [
      "habis dibagi 2\n",
      "angka habis dibagi 3\n"
     ]
    }
   ],
   "source": [
    "angka = 6\n",
    "if angka%2 ==0:\n",
    "    print(\"habis dibagi 2\")\n",
    "if angka%3 == 0 :\n",
    "    print(\"angka habis dibagi 3\")"
   ]
  },
  {
   "cell_type": "code",
   "execution_count": 15,
   "metadata": {},
   "outputs": [
    {
     "name": "stdout",
     "output_type": "stream",
     "text": [
      "Salah\n"
     ]
    }
   ],
   "source": [
    "#Between\n",
    "angka =5\n",
    "if 2 < angka <5:\n",
    "    print(\"Iya\")\n",
    "else:\n",
    "    print(\"Salah\")"
   ]
  },
  {
   "cell_type": "code",
   "execution_count": 16,
   "metadata": {},
   "outputs": [
    {
     "name": "stdout",
     "output_type": "stream",
     "text": [
      "amount is between 200 and 500\n"
     ]
    }
   ],
   "source": [
    "#Nested if\n",
    "price = 50\n",
    "quantity =5\n",
    "amount = price * quantity\n",
    "if amount >100:\n",
    "    if amount >500:\n",
    "        print(\"amount above 500\")\n",
    "    else:\n",
    "        if 400 < amount < 500:\n",
    "            print(f'amount is {amount}')\n",
    "        elif 300 < amount <500:\n",
    "            print('Amount is between 300 and 500')\n",
    "        else:\n",
    "            print('amount is between 200 and 500')\n",
    "            \n",
    "elif amount == 100:\n",
    "    print(\"Amount is 100\")\n",
    "else:\n",
    "    print('amount is less than 100')"
   ]
  },
  {
   "attachments": {},
   "cell_type": "markdown",
   "metadata": {},
   "source": [
    "## Loops"
   ]
  },
  {
   "cell_type": "code",
   "execution_count": 21,
   "metadata": {},
   "outputs": [
    {
     "name": "stdout",
     "output_type": "stream",
     "text": [
      "12.5\n",
      "3.125\n",
      "0.78125\n"
     ]
    }
   ],
   "source": [
    "#while loop\n",
    "angka = 50\n",
    "while angka >1:\n",
    "    angka/=4\n",
    "    print(angka)"
   ]
  },
  {
   "cell_type": "code",
   "execution_count": 22,
   "metadata": {},
   "outputs": [
    {
     "name": "stdout",
     "output_type": "stream",
     "text": [
      "1\n",
      "2\n",
      "3\n",
      "4\n"
     ]
    }
   ],
   "source": [
    "#For Loop\n",
    "list = [1,2,3,4]\n",
    "for i in list:\n",
    "    print(i)"
   ]
  },
  {
   "cell_type": "code",
   "execution_count": 23,
   "metadata": {},
   "outputs": [
    {
     "name": "stdout",
     "output_type": "stream",
     "text": [
      "index: 0 = 1\n",
      "index: 1 = 2\n",
      "index: 2 = 3\n",
      "index: 3 = 4\n"
     ]
    }
   ],
   "source": [
    "#Enumerate\n",
    "for index, num in enumerate(list):\n",
    "    print(f'index: {index} = {num}')"
   ]
  },
  {
   "cell_type": "code",
   "execution_count": 26,
   "metadata": {},
   "outputs": [
    {
     "name": "stdout",
     "output_type": "stream",
     "text": [
      "afghan 10\n",
      "indo 20\n"
     ]
    }
   ],
   "source": [
    "#Looping dictionary\n",
    "world = {\n",
    "    'afghan':10,\n",
    "    'indo':20\n",
    "}\n",
    "for k,value in world.items():\n",
    "    print(k,value)"
   ]
  },
  {
   "cell_type": "code",
   "execution_count": 27,
   "metadata": {},
   "outputs": [
    {
     "name": "stdout",
     "output_type": "stream",
     "text": [
      "0\n",
      "1\n",
      "2\n",
      "3\n",
      "4\n"
     ]
    }
   ],
   "source": [
    "#Looping with range\n",
    "for i in range(5):\n",
    "    print(i)"
   ]
  },
  {
   "cell_type": "code",
   "execution_count": 30,
   "metadata": {},
   "outputs": [
    {
     "data": {
      "text/plain": [
       "[2, 6, 10, 12]"
      ]
     },
     "execution_count": 30,
     "metadata": {},
     "output_type": "execute_result"
    }
   ],
   "source": [
    "#List Comperhensions\n",
    "num = [1,3,5,6]\n",
    "new = [i*2 for i in num]\n",
    "new"
   ]
  },
  {
   "cell_type": "code",
   "execution_count": 31,
   "metadata": {},
   "outputs": [
    {
     "name": "stdout",
     "output_type": "stream",
     "text": [
      "16\n"
     ]
    }
   ],
   "source": [
    "# User defined function\n",
    "def square():\n",
    "    new_value = 4**2\n",
    "    print(new_value)\n",
    "square()"
   ]
  },
  {
   "cell_type": "code",
   "execution_count": 34,
   "metadata": {},
   "outputs": [
    {
     "data": {
      "text/plain": [
       "[1, 2, 3, 4, 5]"
      ]
     },
     "execution_count": 34,
     "metadata": {},
     "output_type": "execute_result"
    }
   ],
   "source": [
    "new_list = [1,'2',3,4,5]\n",
    "new_list = [int(i) for i in new_list]\n",
    "new_list"
   ]
  },
  {
   "attachments": {},
   "cell_type": "markdown",
   "metadata": {},
   "source": [
    "## Args"
   ]
  },
  {
   "cell_type": "code",
   "execution_count": 35,
   "metadata": {},
   "outputs": [],
   "source": [
    "#Args\n",
    "def add_all(*args):\n",
    "    sum_all = 0\n",
    "    for num in args:\n",
    "        sum_all+=num\n",
    "    return sum_all"
   ]
  },
  {
   "cell_type": "code",
   "execution_count": 36,
   "metadata": {},
   "outputs": [
    {
     "data": {
      "text/plain": [
       "10"
      ]
     },
     "execution_count": 36,
     "metadata": {},
     "output_type": "execute_result"
    }
   ],
   "source": [
    "add_all(1,2,3,4)"
   ]
  },
  {
   "attachments": {},
   "cell_type": "markdown",
   "metadata": {},
   "source": [
    "## Kwargs"
   ]
  },
  {
   "cell_type": "code",
   "execution_count": 37,
   "metadata": {},
   "outputs": [],
   "source": [
    "def print_all(**kwargs):\n",
    "    for k,v, in kwargs.items():\n",
    "        print(k, v)"
   ]
  },
  {
   "cell_type": "code",
   "execution_count": 38,
   "metadata": {},
   "outputs": [
    {
     "name": "stdout",
     "output_type": "stream",
     "text": [
      "name angga\n",
      "pekerjaan tukang baso\n"
     ]
    }
   ],
   "source": [
    "print_all(name = 'angga', pekerjaan = 'tukang baso')"
   ]
  },
  {
   "cell_type": "code",
   "execution_count": 39,
   "metadata": {},
   "outputs": [],
   "source": [
    "class Dog:\n",
    "    def __init__(self, name):\n",
    "        self.name = name\n",
    "        self.tricks = []\n",
    "    def add_trick(self, trick):\n",
    "        self.tricks.append(trick)"
   ]
  },
  {
   "cell_type": "code",
   "execution_count": 46,
   "metadata": {},
   "outputs": [
    {
     "data": {
      "text/plain": [
       "['play dead']"
      ]
     },
     "execution_count": 46,
     "metadata": {},
     "output_type": "execute_result"
    }
   ],
   "source": [
    "d = Dog('Jerry')\n",
    "d.add_trick('play dead')\n",
    "d.tricks"
   ]
  },
  {
   "cell_type": "code",
   "execution_count": 56,
   "metadata": {},
   "outputs": [
    {
     "name": "stdout",
     "output_type": "stream",
     "text": [
      "45\n"
     ]
    }
   ],
   "source": [
    "angka = [0,1,2,3,4,5,6,7,8,9]\n",
    "jumlah = 0\n",
    "for d in angka:\n",
    "    jumlah = jumlah + d\n",
    "print(jumlah)"
   ]
  },
  {
   "cell_type": "code",
   "execution_count": 4,
   "metadata": {},
   "outputs": [
    {
     "name": "stdout",
     "output_type": "stream",
     "text": [
      "[[], [], [], [], []]\n"
     ]
    }
   ],
   "source": [
    "mtx = []\n",
    "for i in range(0,5):\n",
    "    for j in range(0,5):\n",
    "        if i==0:\n",
    "            mtx.append([])\n",
    "print(mtx)"
   ]
  },
  {
   "cell_type": "code",
   "execution_count": 59,
   "metadata": {},
   "outputs": [
    {
     "name": "stdout",
     "output_type": "stream",
     "text": [
      "4\n",
      "[[0, 1, 2, 3, 4], [0, 1, 2, 3, 4], [0, 1, 2, 3, 4], [0, 1, 2, 3, 4], [0, 1, 2, 3, 4]]\n"
     ]
    }
   ],
   "source": [
    "mtx = []\n",
    "for i in range(0,5):\n",
    "    for j in range(0,5):\n",
    "        if i == 0:\n",
    "            mtx.append([])\n",
    "        mtx[i].append(j)\n",
    "print(mtx[4][4]) \n",
    "print(mtx)"
   ]
  },
  {
   "cell_type": "code",
   "execution_count": 60,
   "metadata": {},
   "outputs": [
    {
     "name": "stdout",
     "output_type": "stream",
     "text": [
      "321\n",
      "[[1, 1, 1, 1, 1], [1, 3, 5, 7, 9], [1, 5, 13, 25, 41], [1, 7, 25, 63, 129], [1, 9, 41, 129, 321]]\n"
     ]
    }
   ],
   "source": [
    "mtx = []\n",
    "for i in range(0,5):\n",
    "    for j in range(0,5):\n",
    "        if i == 0:\n",
    "            mtx.append([])\n",
    "        if i==0 or j ==0:\n",
    "            mtx[i].append(1)\n",
    "        elif i!=0 and j !=0:\n",
    "            val = mtx[i-1][j]+mtx[i-1][j-1] + mtx[i][j-1]\n",
    "            mtx[i].append(val)\n",
    "print(mtx[-1][-1]) \n",
    "print(mtx)"
   ]
  },
  {
   "cell_type": "code",
   "execution_count": 61,
   "metadata": {},
   "outputs": [
    {
     "name": "stdout",
     "output_type": "stream",
     "text": [
      "[True, False, True, False, True, False, True, False, True, False]\n"
     ]
    }
   ],
   "source": [
    "def checkganjilgenap(val):\n",
    "    return val %2==0\n",
    "angka = [0,1,2,3,4,5,6,7,8,9]\n",
    "res = []\n",
    "for i in range(0,10):\n",
    "    r = checkganjilgenap(i)\n",
    "    res.append(r)\n",
    "print(res)"
   ]
  },
  {
   "cell_type": "code",
   "execution_count": 62,
   "metadata": {},
   "outputs": [
    {
     "name": "stdout",
     "output_type": "stream",
     "text": [
      "93\n"
     ]
    }
   ],
   "source": [
    "angka = [i for i in range(0,10)]\n",
    "idx = 0\n",
    "jml = 0\n",
    "while angka[idx] < 6:\n",
    "    jml+=angka[idx]+13\n",
    "    idx+=1\n",
    "print(jml)"
   ]
  },
  {
   "cell_type": "code",
   "execution_count": 3,
   "metadata": {},
   "outputs": [
    {
     "name": "stdout",
     "output_type": "stream",
     "text": [
      "bark\n"
     ]
    }
   ],
   "source": [
    "class Dog:\n",
    "    latin_name = 'Dog'\n",
    "    def __init__(self, name, age):\n",
    "        self.name = name\n",
    "        self.age = age\n",
    "    def get_name(self):\n",
    "        print(self.age)\n",
    "class JackRussel(Dog):\n",
    "    def speak(self):\n",
    "        print('bark')\n",
    "class Dachound(Dog):\n",
    "    def speak(self):\n",
    "        print('woof')\n",
    "class Bulldog(Dog):\n",
    "    def speak(self):\n",
    "        print('guk')\n",
    "miles = JackRussel(\"Miles\", 4)\n",
    "miles.speak()"
   ]
  },
  {
   "cell_type": "code",
   "execution_count": 6,
   "metadata": {},
   "outputs": [
    {
     "name": "stdout",
     "output_type": "stream",
     "text": [
      "{'nama': 'putu', 'umur': 25}\n",
      "<class 'dict'>\n"
     ]
    }
   ],
   "source": [
    "dict = {\n",
    "    'nama':'putu',\n",
    "    'umur':25\n",
    "}\n",
    "print(dict)\n",
    "print(type(dict))"
   ]
  }
 ],
 "metadata": {
  "kernelspec": {
   "display_name": "geo_env",
   "language": "python",
   "name": "python3"
  },
  "language_info": {
   "codemirror_mode": {
    "name": "ipython",
    "version": 3
   },
   "file_extension": ".py",
   "mimetype": "text/x-python",
   "name": "python",
   "nbconvert_exporter": "python",
   "pygments_lexer": "ipython3",
   "version": "3.10.4"
  },
  "orig_nbformat": 4
 },
 "nbformat": 4,
 "nbformat_minor": 2
}
