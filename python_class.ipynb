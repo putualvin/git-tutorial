{
 "cells": [
  {
   "cell_type": "code",
   "execution_count": 1,
   "metadata": {},
   "outputs": [],
   "source": [
    "class Hewan:\n",
    "    nama_latin = 'hewan'   # class attribute\n",
    "    \n",
    "    def __init__(self, nama, umur):\n",
    "        self.nama = nama\n",
    "        self.umur = umur  \n",
    "    \n",
    "    def bangun(self):\n",
    "        print(f\"{self.nama} bangun tidur\")\n",
    "    \n",
    "    def tidur():\n",
    "        print(\"Hewan tidur\")\n",
    "    \n",
    "    def makan(cls):\n",
    "        print(f\"Hewan jenis {cls.__name__} makan \")\n",
    "\n",
    "class Kucing(Hewan):\n",
    "    nama_latin = 'Felis catus'   # class attribute\n",
    "\n",
    "    def tidur(self):\n",
    "        print(f\"{self.nama} sedang tidur\")\n",
    "    \n",
    "    def lari(self, kecepatan=10):\n",
    "        if kecepatan > 10:\n",
    "            print(\"cepat sekali\")\n",
    "        else:\n",
    "            print(\"lambat\")\n",
    "\n",
    "class Kelinci(Hewan):\n",
    "    nama_latin = 'Oryctolagus cuniculus'   # class attribute\n",
    "    \n",
    "    def tidur(self):\n",
    "        print(f\"{self.nama} tidur di liang\")\n",
    "\n",
    "    def lari(self, kecepatan=10):\n",
    "        if kecepatan > 10:\n",
    "            print(\"cepat sekali\")\n",
    "        else:\n",
    "            print(\"lambat\")\n",
    "            print(\"test\")\n",
    "            print(\"New changes\")\n",
    "            print(\"New 2\")"
   ]
  }
 ],
 "metadata": {
  "kernelspec": {
   "display_name": "geo_env",
   "language": "python",
   "name": "python3"
  },
  "language_info": {
   "codemirror_mode": {
    "name": "ipython",
    "version": 3
   },
   "file_extension": ".py",
   "mimetype": "text/x-python",
   "name": "python",
   "nbconvert_exporter": "python",
   "pygments_lexer": "ipython3",
   "version": "3.10.4"
  },
  "orig_nbformat": 4
 },
 "nbformat": 4,
 "nbformat_minor": 2
}
